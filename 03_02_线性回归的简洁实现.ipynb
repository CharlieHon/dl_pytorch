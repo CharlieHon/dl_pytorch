{
 "cells": [
  {
   "cell_type": "markdown",
   "metadata": {},
   "source": [
    "## 3.3 线性回归的简洁实现\n",
    "\n",
    "- `torch.utils.data`模块提供有关数据处理的工具\n",
    "- `torch.nn`模块定义了大量神经网络的层\n",
    "- `torch.nn.init`模块定义了各种初始化方法\n",
    "- `torch.optim`模块提供了很多常用的优化算法"
   ]
  },
  {
   "cell_type": "markdown",
   "metadata": {},
   "source": [
    "### 3.3.1 生成数据集\n",
    "\n",
    "生成与上一节中相同的数据集，其中`features`是训练数据特征，`labels`是标签。"
   ]
  },
  {
   "cell_type": "code",
   "execution_count": 1,
   "metadata": {},
   "outputs": [],
   "source": [
    "import random\n",
    "import torch\n",
    "import numpy as np\n",
    "import matplotlib.pyplot as plt\n",
    "%matplotlib inline"
   ]
  },
  {
   "cell_type": "code",
   "execution_count": 2,
   "metadata": {},
   "outputs": [
    {
     "name": "stdout",
     "output_type": "stream",
     "text": [
      "features.shape: torch.Size([1000, 2])\n",
      "labels.shape torch.Size([1000])\n"
     ]
    }
   ],
   "source": [
    "num_inputs = 2\n",
    "num_examples = 1000\n",
    "true_w = [2, -3.4]\n",
    "true_b = 4.2\n",
    "\n",
    "features = torch.tensor(np.random.normal(0, 1, (num_examples, num_inputs)), dtype=torch.float32)\n",
    "labels = true_w[0] * features[:, 0] + true_w[1] * features[:, 1] + true_b\n",
    "labels += torch.tensor(np.random.normal(0, 0.01, size=labels.size()), dtype=torch.float32)\n",
    "print('features.shape:', features.shape)\n",
    "print('labels.shape', labels.shape)"
   ]
  },
  {
   "cell_type": "markdown",
   "metadata": {},
   "source": [
    "### 3.3.2 读取数据\n",
    "\n",
    "`pytorch`提供了`data`包来读取数据。由于`data`常用作变量名，将导入的`data`模块用`Data`代替。在每一次迭代中，将随机读取包含16个数据样本的小批量。"
   ]
  },
  {
   "cell_type": "code",
   "execution_count": 3,
   "metadata": {},
   "outputs": [],
   "source": [
    "import torch.utils.data as Data\n",
    "\n",
    "batch_size = 16\n",
    "# 将训练数据的特征和标签组合\n",
    "dataset = Data.TensorDataset(features, labels)\n",
    "# 随机读取小批量\n",
    "data_iter = Data.DataLoader(dataset, batch_size, shuffle=True)"
   ]
  },
  {
   "cell_type": "code",
   "execution_count": 4,
   "metadata": {},
   "outputs": [
    {
     "name": "stdout",
     "output_type": "stream",
     "text": [
      "tensor([[-2.0501, -1.4243],\n",
      "        [-0.0511,  0.0108],\n",
      "        [-2.1359,  1.5977],\n",
      "        [ 0.6027, -0.6070],\n",
      "        [-0.6638,  0.6214],\n",
      "        [ 1.6283,  0.6497],\n",
      "        [-0.2126, -0.6961],\n",
      "        [-1.0930, -1.2886],\n",
      "        [ 0.5440,  1.2210],\n",
      "        [-1.2386,  0.6222],\n",
      "        [ 0.0883, -0.3734],\n",
      "        [ 0.6561, -0.8581],\n",
      "        [ 0.6516, -0.5971],\n",
      "        [ 0.6519,  0.9336],\n",
      "        [ 1.2895,  0.2487],\n",
      "        [-0.0392,  0.3690]]) tensor([ 4.9475,  4.0756, -5.5011,  7.4769,  0.7565,  5.2370,  6.1519,  6.3990,\n",
      "         1.1490, -0.3926,  5.6492,  8.4212,  7.5537,  2.3510,  5.9233,  2.8781])\n"
     ]
    }
   ],
   "source": [
    "# 读取并打印第一个小批量数据样本\n",
    "for X, y in data_iter:\n",
    "    print(X, y)\n",
    "    break"
   ]
  },
  {
   "cell_type": "markdown",
   "metadata": {},
   "source": [
    "### 3.3.3 定义模型\n",
    "\n",
    "`PyTorch`提供了大量预定义的层，这是我们只需关注使用哪些层来构造模型。\n",
    "\n",
    "首先，导入`torch.nn`模块。该模块定义了大量神经网络的层。`nn`的核心数据结构是`Module`，是一个抽象的概念，既可以表示神经网络中的某个层，也可以表示一个包含很多层的神经网络。\n",
    "\n",
    "在实际使用中，最常见的做法就是继承`nn.Module`，撰写自己的网络/层。一个`nn.Module`实例应该包含一些层以及返回输出的前向传播(forward)方法。"
   ]
  },
  {
   "cell_type": "code",
   "execution_count": 5,
   "metadata": {},
   "outputs": [
    {
     "name": "stdout",
     "output_type": "stream",
     "text": [
      "Linreg(\n",
      "  (linear): Linear(in_features=2, out_features=1, bias=True)\n",
      ")\n"
     ]
    }
   ],
   "source": [
    "# 使用`nn.Module`实现一个线性模型\n",
    "from torch import nn\n",
    "\n",
    "class Linreg(nn.Module):\n",
    "\n",
    "    def __init__(self, n_features) -> None:\n",
    "        super(Linreg, self).__init__()\n",
    "        self.linear = nn.Linear(n_features, 1)\n",
    "    # forward前向传播\n",
    "    def forward(self, x):\n",
    "        y = self.linear(x)\n",
    "        return y\n",
    "\n",
    "\n",
    "net = Linreg(num_inputs)\n",
    "print(net)  # 使用print打印出网络的结构"
   ]
  },
  {
   "cell_type": "markdown",
   "metadata": {},
   "source": [
    "还可以使用`nn.Sequential`来更加方便地搭建网络，`Sequential`是一个有序的容器，网络层将按照在传入`Sequential`的顺序依次被添加到计算图中。"
   ]
  },
  {
   "cell_type": "code",
   "execution_count": 6,
   "metadata": {},
   "outputs": [
    {
     "name": "stdout",
     "output_type": "stream",
     "text": [
      "Sequential(\n",
      "  (0): Linear(in_features=2, out_features=1, bias=True)\n",
      ")\n",
      "Linear(in_features=2, out_features=1, bias=True)\n"
     ]
    }
   ],
   "source": [
    "# 写法1\n",
    "net1 = nn.Sequential(\n",
    "    nn.Linear(num_inputs, 1)\n",
    "    # 此处还可以传入其他层\n",
    ")\n",
    "\n",
    "# 写法2\n",
    "net2 = nn.Sequential()\n",
    "net2.add_module('linear', nn.Linear(num_inputs, 1))\n",
    "# net2.add_module(...)\n",
    "\n",
    "# 写法3\n",
    "from collections import OrderedDict\n",
    "net3 = nn.Sequential(OrderedDict([\n",
    "        ('linear', nn.Linear(num_inputs, 1))\n",
    "]))\n",
    "\n",
    "print(net1)\n",
    "print(net1[0])"
   ]
  },
  {
   "cell_type": "markdown",
   "metadata": {},
   "source": [
    "可以通过`net.parameters()`来查看模型所有的可学习参数，此参数将返回一个生成器。"
   ]
  },
  {
   "cell_type": "code",
   "execution_count": 7,
   "metadata": {},
   "outputs": [
    {
     "name": "stdout",
     "output_type": "stream",
     "text": [
      "Parameter containing:\n",
      "tensor([[-0.4613,  0.5806]], requires_grad=True)\n",
      "Parameter containing:\n",
      "tensor([0.1184], requires_grad=True)\n"
     ]
    }
   ],
   "source": [
    "for param in net.parameters():\n",
    "    print(param)"
   ]
  },
  {
   "cell_type": "markdown",
   "metadata": {},
   "source": [
    "> 注意：`torch.nn`仅支持输入一个batch的样本不支持单个样本输入，如果只有单个样本，\n",
    "> 可使用`input.unsqueeze(0)`来添加一维。"
   ]
  },
  {
   "cell_type": "markdown",
   "metadata": {},
   "source": [
    "### 3.3.4 初始化模型参数\n",
    "\n",
    "在使用`net`前，需要初始化模型参数，如线性回归的权重和偏差。PyTorch在`init`模块中提供了多种参数初始化方法。\n",
    "\n",
    "通过`init.normal_`将权重参数每个元素初始化为随机采样于均值为0，标准差为0.01的正态分布，偏差会初始化为0."
   ]
  },
  {
   "cell_type": "code",
   "execution_count": 9,
   "metadata": {},
   "outputs": [
    {
     "data": {
      "text/plain": [
       "Parameter containing:\n",
       "tensor([0.], requires_grad=True)"
      ]
     },
     "execution_count": 9,
     "metadata": {},
     "output_type": "execute_result"
    }
   ],
   "source": [
    "from torch.nn import init\n",
    "\n",
    "init.normal_(net3[0].weight, mean=0, std=0.01)\n",
    "init.constant_(net3[0].bias, val=0)"
   ]
  },
  {
   "cell_type": "markdown",
   "metadata": {},
   "source": [
    "> 注意：对于通过类自定义的神经网络，`net[0].weight`应改为`net.linear.weight`，`bias`亦然。\n",
    "> \n",
    "> 根据下标访问子模块的写法只有当`net`是个`ModuleList`或者`Sequential`实例时才可以。"
   ]
  },
  {
   "cell_type": "markdown",
   "metadata": {},
   "source": [
    "### 3.3.5 定义损失函数\n",
    "\n",
    "PyTorch在`nn`模块中提供了各种损失函数，这些损失函数可看作一种特殊的层，Pytorch也将这些损失函数实现为`nn.Module`的子类。"
   ]
  },
  {
   "cell_type": "code",
   "execution_count": 10,
   "metadata": {},
   "outputs": [],
   "source": [
    "loss = nn.MSELoss()"
   ]
  },
  {
   "cell_type": "markdown",
   "metadata": {},
   "source": [
    "### 3.3.6 定义优化算法\n",
    "\n",
    "`torch.optim`模块提供了很多常用的优化算法，比如SGD、Adam和RMSProp等。\n",
    "\n",
    "下面创建一个用于优化`net`所有参数的优化器实例，并指定学习率为0.03的小批量随机梯度下降(SGD)为优化算法。"
   ]
  },
  {
   "cell_type": "code",
   "execution_count": 12,
   "metadata": {},
   "outputs": [
    {
     "name": "stdout",
     "output_type": "stream",
     "text": [
      "SGD (\n",
      "Parameter Group 0\n",
      "    dampening: 0\n",
      "    foreach: None\n",
      "    lr: 0.03\n",
      "    maximize: False\n",
      "    momentum: 0\n",
      "    nesterov: False\n",
      "    weight_decay: 0\n",
      ")\n"
     ]
    }
   ],
   "source": [
    "import torch.optim as optim\n",
    "\n",
    "optimizer = optim.SGD(net3.parameters(), lr=0.03)\n",
    "print(optimizer)"
   ]
  },
  {
   "cell_type": "markdown",
   "metadata": {},
   "source": [
    "还可以为不同的子网络设置不同的学习率，这在finetune时经常用到。例如：\n",
    "\n",
    "```python\n",
    "optimizer = optim.SGD([\n",
    "            {'param':net.subnet1.parameters()}, # lr=0.03\n",
    "            {'param':net.subnet2.parameters(), 'lr':0.01}\n",
    "            ], lr=0.03)\n",
    "```"
   ]
  },
  {
   "cell_type": "markdown",
   "metadata": {},
   "source": [
    "### 3.3.7 训练模型\n",
    "\n",
    "在使用Gluon训练模型时，通过调用`optim`实例的`step`函数来迭代模型参数。按照小批量随机梯度下降的定义，我们在`step`函数中指明批量大小，从而对批量中样本梯度求平均。"
   ]
  },
  {
   "cell_type": "code",
   "execution_count": 13,
   "metadata": {},
   "outputs": [
    {
     "name": "stdout",
     "output_type": "stream",
     "text": [
      "epoch 0, loss: 0.025421\n",
      "epoch 1, loss: 0.000057\n",
      "epoch 2, loss: 0.000057\n"
     ]
    }
   ],
   "source": [
    "epochs = 3\n",
    "for epoch in range(epochs):\n",
    "    for X, y in data_iter:\n",
    "        output = net3(X)\n",
    "        l = loss(output, y.view(-1, 1))\n",
    "        optimizer.zero_grad()   # 梯度清零\n",
    "        l.backward()\n",
    "        optimizer.step()\n",
    "    print('epoch %d, loss: %f' % (epoch, l.item()))"
   ]
  },
  {
   "cell_type": "markdown",
   "metadata": {},
   "source": [
    "比较学到的模型参数和真实的模型参数。从`net`获得需要的层，并访问其权重(`weight`)和偏差(`bias`)。"
   ]
  },
  {
   "cell_type": "code",
   "execution_count": 14,
   "metadata": {},
   "outputs": [
    {
     "name": "stdout",
     "output_type": "stream",
     "text": [
      "[2, -3.4] Parameter containing:\n",
      "tensor([[ 1.9996, -3.4007]], requires_grad=True)\n",
      "4.2 Parameter containing:\n",
      "tensor([4.2006], requires_grad=True)\n"
     ]
    }
   ],
   "source": [
    "dense = net3[0]\n",
    "print(true_w, dense.weight)\n",
    "print(true_b, dense.bias)"
   ]
  }
 ],
 "metadata": {
  "kernelspec": {
   "display_name": "Python 3.8.0 ('pytorch1.12')",
   "language": "python",
   "name": "python3"
  },
  "language_info": {
   "codemirror_mode": {
    "name": "ipython",
    "version": 3
   },
   "file_extension": ".py",
   "mimetype": "text/x-python",
   "name": "python",
   "nbconvert_exporter": "python",
   "pygments_lexer": "ipython3",
   "version": "3.8.0"
  },
  "orig_nbformat": 4,
  "vscode": {
   "interpreter": {
    "hash": "ad951275103bbfb3096341f5c4674f3a26bc135378116ec035f34c58e555fae9"
   }
  }
 },
 "nbformat": 4,
 "nbformat_minor": 2
}
