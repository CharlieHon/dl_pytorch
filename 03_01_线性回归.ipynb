{
 "cells": [
  {
   "cell_type": "code",
   "execution_count": 1,
   "metadata": {},
   "outputs": [],
   "source": [
    "# 导入包\n",
    "%matplotlib inline\n",
    "import random\n",
    "import torch\n",
    "import numpy as np\n",
    "import matplotlib.pyplot as plt"
   ]
  },
  {
   "cell_type": "markdown",
   "metadata": {},
   "source": [
    "### 3.2.1 生成数据集\n",
    "\n",
    "构造一个简单的人工训练数据集，样本数为1000，输入特征数为2。\n",
    "\n",
    "模型的真实权重为`w=[2, -3.4].T`和偏差`b=4.2`，以及一个随机噪声项`ζ`，`y = Xw + b + ζ`"
   ]
  },
  {
   "cell_type": "code",
   "execution_count": 7,
   "metadata": {},
   "outputs": [
    {
     "name": "stdout",
     "output_type": "stream",
     "text": [
      "features.shape torch.Size([1000, 2])\n",
      "labels.shape:  torch.Size([1000])\n"
     ]
    }
   ],
   "source": [
    "num_inputs = 2\n",
    "num_samples = 1000\n",
    "true_w = [2, -3.4]\n",
    "true_b = 4.2\n",
    "features = torch.randn(num_samples, num_inputs, dtype=torch.float32)\n",
    "print('features.shape', features.shape)\n",
    "labels = true_w[0] * features[:, 0] + true_w[1] * features[:, 1] + true_b\n",
    "# labels = true_w * features + true_b\n",
    "print('labels.shape: ', labels.shape)\n",
    "labels += torch.tensor(np.random.normal(0, 0.01, size=labels.size()), dtype=torch.float32)"
   ]
  },
  {
   "cell_type": "code",
   "execution_count": 8,
   "metadata": {},
   "outputs": [
    {
     "name": "stdout",
     "output_type": "stream",
     "text": [
      "tensor([ 0.8783, -0.3741]) tensor(7.2255)\n"
     ]
    }
   ],
   "source": [
    "print(features[0], labels[0])"
   ]
  },
  {
   "cell_type": "markdown",
   "metadata": {},
   "source": [
    "通过生成第二特征`features[:, 1]`和标签`labels`的散点图，直观地观察两者间的线性关系。"
   ]
  },
  {
   "cell_type": "code",
   "execution_count": 10,
   "metadata": {},
   "outputs": [
    {
     "data": {
      "text/plain": [
       "<matplotlib.collections.PathCollection at 0x23b470ab6d0>"
      ]
     },
     "execution_count": 10,
     "metadata": {},
     "output_type": "execute_result"
    },
    {
     "data": {
      "image/png": "[encoded data removed]",
      "text/plain": [
       "<Figure size 640x480 with 1 Axes>"
      ]
     },
     "metadata": {},
     "output_type": "display_data"
    }
   ],
   "source": [
    "plt.scatter(features[:, 1].numpy(), labels.numpy(), 1)"
   ]
  },
  {
   "cell_type": "markdown",
   "metadata": {},
   "source": [
    "### 3.2.2 读取数据\n",
    "\n",
    "定义一个函数：每次返回`batch_size(批量大小)`个随机样本的特征和标签。"
   ]
  },
  {
   "cell_type": "code",
   "execution_count": 12,
   "metadata": {},
   "outputs": [],
   "source": [
    "def data_iter(batch_size, features, labels):\n",
    "    num_examples = len(features)\n",
    "    indices = list(range(num_examples))\n",
    "    random.shuffle(indices)\n",
    "    for i in range(0, num_examples, batch_size):\n",
    "        j = torch.LongTensor(indices[i: min(i+batch_size, num_examples)])\n",
    "        yield features.index_select(0, j), labels.index_select(0, j)"
   ]
  },
  {
   "cell_type": "code",
   "execution_count": 11,
   "metadata": {},
   "outputs": [
    {
     "name": "stdout",
     "output_type": "stream",
     "text": [
      "\u001b[1;31mDocstring:\u001b[0m\n",
      "index_select(input, dim, index, *, out=None) -> Tensor\n",
      "\n",
      "Returns a new tensor which indexes the :attr:`input` tensor along dimension\n",
      ":attr:`dim` using the entries in :attr:`index` which is a `LongTensor`.\n",
      "\n",
      "The returned tensor has the same number of dimensions as the original tensor\n",
      "(:attr:`input`).  The :attr:`dim`\\ th dimension has the same size as the length\n",
      "of :attr:`index`; other dimensions have the same size as in the original tensor.\n",
      "\n",
      ".. note:: The returned tensor does **not** use the same storage as the original\n",
      "          tensor.  If :attr:`out` has a different shape than expected, we\n",
      "          silently change it to the correct shape, reallocating the underlying\n",
      "          storage if necessary.\n",
      "\n",
      "Args:\n",
      "    input (Tensor): the input tensor.\n",
      "    dim (int): the dimension in which we index\n",
      "    index (IntTensor or LongTensor): the 1-D tensor containing the indices to index\n",
      "\n",
      "Keyword args:\n",
      "    out (Tensor, optional): the output tensor.\n",
      "\n",
      "Example::\n",
      "\n",
      "    >>> x = torch.randn(3, 4)\n",
      "    >>> x\n",
      "    tensor([[ 0.1427,  0.0231, -0.5414, -1.0009],\n",
      "            [-0.4664,  0.2647, -0.1228, -1.1068],\n",
      "            [-1.1734, -0.6571,  0.7230, -0.6004]])\n",
      "    >>> indices = torch.tensor([0, 2])\n",
      "    >>> torch.index_select(x, 0, indices)\n",
      "    tensor([[ 0.1427,  0.0231, -0.5414, -1.0009],\n",
      "            [-1.1734, -0.6571,  0.7230, -0.6004]])\n",
      "    >>> torch.index_select(x, 1, indices)\n",
      "    tensor([[ 0.1427, -0.5414],\n",
      "            [-0.4664, -0.1228],\n",
      "            [-1.1734,  0.7230]])\n",
      "\u001b[1;31mType:\u001b[0m      builtin_function_or_method\n"
     ]
    }
   ],
   "source": [
    "torch.index_select?"
   ]
  },
  {
   "cell_type": "code",
   "execution_count": 13,
   "metadata": {},
   "outputs": [
    {
     "name": "stdout",
     "output_type": "stream",
     "text": [
      "tensor([[ 0.3588,  0.7649],\n",
      "        [ 1.2605, -1.1513],\n",
      "        [ 1.7320, -0.8460],\n",
      "        [ 1.4727,  0.0643],\n",
      "        [ 0.0817,  1.1468],\n",
      "        [ 0.7394, -1.5096],\n",
      "        [-0.1428, -1.8689],\n",
      "        [ 0.5633, -0.0155],\n",
      "        [ 0.7553, -0.1486],\n",
      "        [ 0.6727, -0.4362],\n",
      "        [ 0.4897,  1.1415],\n",
      "        [-0.6511,  0.9287],\n",
      "        [ 0.1198,  1.0282],\n",
      "        [ 0.5719, -0.0461],\n",
      "        [ 0.1526,  0.6472],\n",
      "        [ 0.9252, -0.0668]]) tensor([ 2.2970, 10.6224, 10.5326,  6.9114,  0.4759, 10.8208, 10.2512,  5.3808,\n",
      "         6.2211,  7.0279,  1.2972, -0.2835,  0.9655,  5.4891,  2.3010,  6.2928])\n"
     ]
    }
   ],
   "source": [
    "batch_size = 16\n",
    "\n",
    "for X, y in data_iter(batch_size, features, labels):\n",
    "    print(X, y)\n",
    "    break"
   ]
  },
  {
   "cell_type": "markdown",
   "metadata": {},
   "source": [
    "### 3.2.3 初始化模型参数\n",
    "\n",
    "将权重初始化为均值为0，标准差为0.01的正态随机数，偏差初始化成0."
   ]
  },
  {
   "cell_type": "code",
   "execution_count": 14,
   "metadata": {},
   "outputs": [],
   "source": [
    "w = torch.tensor(np.random.normal(0, 0.01, (num_inputs, 1)), dtype=torch.float32)\n",
    "b = torch.zeros(1, dtype=torch.float32)"
   ]
  },
  {
   "cell_type": "markdown",
   "metadata": {},
   "source": [
    "之后的模型参数中，需要对这些参数求梯度来迭代参数的值，因此让它们的`requires_grad=True`"
   ]
  },
  {
   "cell_type": "code",
   "execution_count": 15,
   "metadata": {},
   "outputs": [
    {
     "data": {
      "text/plain": [
       "tensor([0.], requires_grad=True)"
      ]
     },
     "execution_count": 15,
     "metadata": {},
     "output_type": "execute_result"
    }
   ],
   "source": [
    "w.requires_grad_(True)\n",
    "b.requires_grad_(True)"
   ]
  },
  {
   "cell_type": "markdown",
   "metadata": {},
   "source": [
    "### 3.2.4 定义模型\n",
    "\n",
    "使用`mm`函数做矩阵乘法"
   ]
  },
  {
   "cell_type": "code",
   "execution_count": 16,
   "metadata": {},
   "outputs": [],
   "source": [
    "def linreg(X, w, b):\n",
    "    return torch.mm(X, w) + b"
   ]
  },
  {
   "cell_type": "markdown",
   "metadata": {},
   "source": [
    "### 3.2.5 定义损失函数"
   ]
  },
  {
   "cell_type": "code",
   "execution_count": 17,
   "metadata": {},
   "outputs": [],
   "source": [
    "def squared_loss(y_hat, y):\n",
    "    return (y_hat - y.view(y_hat.size())) ** 2 / 2"
   ]
  },
  {
   "cell_type": "markdown",
   "metadata": {},
   "source": [
    "### 3.2.6 定义优化算法\n",
    "\n",
    "小批量随机梯度下降算法"
   ]
  },
  {
   "cell_type": "code",
   "execution_count": 18,
   "metadata": {},
   "outputs": [],
   "source": [
    "def sgd(params, lr, batch_size):\n",
    "    for param in params:\n",
    "        param.data -= lr * param.grad / batch_size"
   ]
  },
  {
   "cell_type": "markdown",
   "metadata": {},
   "source": [
    "### 3.2.7 训练模型\n",
    "\n",
    "在每次迭代中，根据当前读取的小批量数据样本(特征`X`和标签`y`)，通过调用反向传播函数`backward()`计算小批量随机梯度，并调用优化算法`sgd`迭代模型参数。\n",
    "\n",
    "由于之前设批量大小`batch_size`为16，每个小批量的损失`l`的形状为`(10, 1)`。\n",
    "\n",
    "由于变量`l`并不是一个标量，所以调用`.sum()`将其求和得到一个标量，再运行`l.backward()`得到该变量有关模型参数的梯度。\n",
    "\n",
    "注意在每次更新完参数后将参数的梯度清零。"
   ]
  },
  {
   "cell_type": "code",
   "execution_count": 21,
   "metadata": {},
   "outputs": [
    {
     "name": "stdout",
     "output_type": "stream",
     "text": [
      "epoch 1, loss 0.005304\n",
      "epoch 2, loss 0.000149\n",
      "epoch 3, loss 0.000052\n"
     ]
    }
   ],
   "source": [
    "lr = 0.03\n",
    "epochs = 3\n",
    "\n",
    "for epoch in range(epochs):\n",
    "    for X, y in data_iter(batch_size, features, labels):\n",
    "        l = squared_loss(linreg(X, w, b), y).sum()\n",
    "        l.backward()\n",
    "        sgd([w, b], lr, batch_size)\n",
    "\n",
    "        w.grad.data.zero_()\n",
    "        b.grad.data.zero_()\n",
    "    train_loss = squared_loss(linreg(features, w, b), labels)\n",
    "    print('epoch %d, loss %f' % (epoch+1, train_loss.mean().item()))"
   ]
  },
  {
   "cell_type": "code",
   "execution_count": 22,
   "metadata": {},
   "outputs": [
    {
     "name": "stdout",
     "output_type": "stream",
     "text": [
      "[2, -3.4] \n",
      " tensor([[ 1.9991],\n",
      "        [-3.3991]], requires_grad=True)\n",
      "4.2 \n",
      " tensor([4.1984], requires_grad=True)\n"
     ]
    }
   ],
   "source": [
    "# 训练后的参数\n",
    "print(true_w, '\\n', w)\n",
    "print(true_b, '\\n', b)"
   ]
  }
 ],
 "metadata": {
  "kernelspec": {
   "display_name": "Python 3.8.0 ('pytorch1.12')",
   "language": "python",
   "name": "python3"
  },
  "language_info": {
   "codemirror_mode": {
    "name": "ipython",
    "version": 3
   },
   "file_extension": ".py",
   "mimetype": "text/x-python",
   "name": "python",
   "nbconvert_exporter": "python",
   "pygments_lexer": "ipython3",
   "version": "3.8.0"
  },
  "orig_nbformat": 4,
  "vscode": {
   "interpreter": {
    "hash": "ad951275103bbfb3096341f5c4674f3a26bc135378116ec035f34c58e555fae9"
   }
  }
 },
 "nbformat": 4,
 "nbformat_minor": 2
}
